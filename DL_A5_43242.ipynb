{
 "cells": [
  {
   "cell_type": "markdown",
   "metadata": {
    "id": "i_GcJlVrDgBk"
   },
   "source": [
    "Name: **Abhishek Lande**<br>\n",
    "Div: **BE10-R10**<br>\n",
    "Roll no: **43242**<br>\n",
    "Title: **Assignment 5: Implement the Continuous Bag of Words (CBOW) Model**<br>"
   ]
  },
  {
   "cell_type": "code",
   "execution_count": 1,
   "metadata": {
    "id": "V51q50EbF-T9"
   },
   "outputs": [],
   "source": [
    "#importing libraries\n",
    "from keras.preprocessing import text\n",
    "from keras.utils import np_utils\n",
    "from keras.preprocessing import sequence\n",
    "from keras.utils import pad_sequences\n",
    "import numpy as np\n",
    "import pandas as pd"
   ]
  },
  {
   "cell_type": "code",
   "execution_count": 2,
   "metadata": {
    "id": "wBUwYdBJElVz"
   },
   "outputs": [],
   "source": [
    "#taking random sentences as data\n",
    "data = \"\"\"Deep learning (also known as deep structured learning) is part of a broader family of machine learning methods based on artificial neural networks with representation learning. Learning can be supervised, semi-supervised or unsupervised. \n",
    "Deep-learning architectures such as deep neural networks, deep belief networks, deep reinforcement learning, recurrent neural networks, convolutional neural networks and Transformers have been applied to fields including computer vision, speech recognition, natural language processing, machine translation, bioinformatics, drug design, medical image analysis, climate science, material inspection and board game programs, where they have produced results comparable to and in some cases surpassing human expert performance.\n",
    "\"\"\"\n",
    "dl_data = data.split()"
   ]
  },
  {
   "cell_type": "code",
   "execution_count": 3,
   "metadata": {
    "colab": {
     "base_uri": "https://localhost:8080/"
    },
    "id": "celNk9LmEvm8",
    "outputId": "4e2143b6-92dc-452f-f468-7c9e6238e287"
   },
   "outputs": [
    {
     "name": "stdout",
     "output_type": "stream",
     "text": [
      "Vocabulary Size: 75\n",
      "Vocabulary Sample: [('learning', 1), ('deep', 2), ('networks', 3), ('neural', 4), ('and', 5), ('as', 6), ('of', 7), ('machine', 8), ('supervised', 9), ('have', 10)]\n"
     ]
    }
   ],
   "source": [
    "#tokenization\n",
    "tokenizer = text.Tokenizer()\n",
    "tokenizer.fit_on_texts(dl_data)\n",
    "word2id = tokenizer.word_index\n",
    "\n",
    "word2id['PAD'] = 0\n",
    "id2word = {v:k for k, v in word2id.items()}\n",
    "wids = [[word2id[w] for w in text.text_to_word_sequence(doc)] for doc in dl_data]\n",
    "\n",
    "vocab_size = len(word2id)\n",
    "embed_size = 100\n",
    "window_size = 2 \n",
    "\n",
    "print('Vocabulary Size:', vocab_size)\n",
    "print('Vocabulary Sample:', list(word2id.items())[:10])"
   ]
  },
  {
   "cell_type": "code",
   "execution_count": 4,
   "metadata": {
    "id": "AAxNYDanInQC"
   },
   "outputs": [],
   "source": [
    "#generating (context word, target/label word) pairs\n",
    "def generate_context_word_pairs(corpus, window_size, vocab_size):\n",
    "    context_length = window_size*2\n",
    "    for words in corpus:\n",
    "        sentence_length = len(words)\n",
    "        for index, word in enumerate(words):\n",
    "            context_words = []\n",
    "            label_word   = []            \n",
    "            start = index - window_size\n",
    "            end = index + window_size + 1\n",
    "            \n",
    "            context_words.append([words[i] \n",
    "                                 for i in range(start, end) \n",
    "                                 if 0 <= i < sentence_length \n",
    "                                 and i != index])\n",
    "            label_word.append(word)\n",
    "\n",
    "            x = pad_sequences(context_words, maxlen=context_length)\n",
    "            y = np_utils.to_categorical(label_word, vocab_size)\n",
    "            yield (x, y)\n",
    "            \n",
    "i = 0\n",
    "for x, y in generate_context_word_pairs(corpus=wids, window_size=window_size, vocab_size=vocab_size):\n",
    "    if 0 not in x[0]:\n",
    "        # print('Context (X):', [id2word[w] for w in x[0]], '-> Target (Y):', id2word[np.argwhere(y[0])[0][0]])\n",
    "    \n",
    "        if i == 10:\n",
    "            break\n",
    "        i += 1"
   ]
  },
  {
   "cell_type": "code",
   "execution_count": 5,
   "metadata": {
    "colab": {
     "base_uri": "https://localhost:8080/"
    },
    "id": "Rb5dNmoZKZBv",
    "outputId": "b859c07e-6989-420d-b169-8aa0b93ff367"
   },
   "outputs": [
    {
     "name": "stdout",
     "output_type": "stream",
     "text": [
      "Model: \"sequential\"\n",
      "_________________________________________________________________\n",
      " Layer (type)                Output Shape              Param #   \n",
      "=================================================================\n",
      " embedding (Embedding)       (None, 4, 100)            7500      \n",
      "                                                                 \n",
      " lambda (Lambda)             (None, 100)               0         \n",
      "                                                                 \n",
      " dense (Dense)               (None, 75)                7575      \n",
      "                                                                 \n",
      "=================================================================\n",
      "Total params: 15,075\n",
      "Trainable params: 15,075\n",
      "Non-trainable params: 0\n",
      "_________________________________________________________________\n",
      "None\n"
     ]
    }
   ],
   "source": [
    "#model building\n",
    "import keras.backend as K\n",
    "from keras.models import Sequential\n",
    "from keras.layers import Dense, Embedding, Lambda\n",
    "\n",
    "cbow = Sequential()\n",
    "cbow.add(Embedding(input_dim=vocab_size, output_dim=embed_size, input_length=window_size*2))\n",
    "cbow.add(Lambda(lambda x: K.mean(x, axis=1), output_shape=(embed_size,)))\n",
    "cbow.add(Dense(vocab_size, activation='softmax'))\n",
    "cbow.compile(loss='categorical_crossentropy', optimizer='rmsprop')\n",
    "\n",
    "print(cbow.summary())\n",
    "\n",
    "# from IPython.display import SVG\n",
    "# from keras.utils.vis_utils import model_to_dot\n",
    "\n",
    "# SVG(model_to_dot(cbow, show_shapes=True, show_layer_names=False, rankdir='TB').create(prog='dot', format='svg'))"
   ]
  },
  {
   "cell_type": "code",
   "execution_count": 6,
   "metadata": {
    "colab": {
     "base_uri": "https://localhost:8080/"
    },
    "id": "xs12C3MDK1q4",
    "outputId": "fe8783b3-0ee1-4286-be40-6713afa14f9c"
   },
   "outputs": [
    {
     "name": "stdout",
     "output_type": "stream",
     "text": [
      "Epoch: 1 \tLoss: 434.3363356590271\n",
      "\n",
      "Epoch: 2 \tLoss: 429.2767653465271\n",
      "\n",
      "Epoch: 3 \tLoss: 425.76054191589355\n",
      "\n",
      "Epoch: 4 \tLoss: 422.4429409503937\n",
      "\n",
      "Epoch: 5 \tLoss: 419.9312951564789\n",
      "\n"
     ]
    }
   ],
   "source": [
    "for epoch in range(1, 6):\n",
    "    loss = 0.\n",
    "    i = 0\n",
    "    for x, y in generate_context_word_pairs(corpus=wids, window_size=window_size, vocab_size=vocab_size):\n",
    "        i += 1\n",
    "        loss += cbow.train_on_batch(x, y)\n",
    "        if i % 100000 == 0:\n",
    "            print('Processed {} (context, word) pairs'.format(i))\n",
    "\n",
    "    print('Epoch:', epoch, '\\tLoss:', loss)\n",
    "    print()"
   ]
  },
  {
   "cell_type": "code",
   "execution_count": 7,
   "metadata": {
    "colab": {
     "base_uri": "https://localhost:8080/",
     "height": 253
    },
    "id": "TZ3_QGKVK6Tj",
    "outputId": "cd9d167a-85a3-4cc9-eccb-faf997526122"
   },
   "outputs": [
    {
     "name": "stdout",
     "output_type": "stream",
     "text": [
      "(74, 100)\n"
     ]
    },
    {
     "data": {
      "text/html": [
       "<div>\n",
       "<style scoped>\n",
       "    .dataframe tbody tr th:only-of-type {\n",
       "        vertical-align: middle;\n",
       "    }\n",
       "\n",
       "    .dataframe tbody tr th {\n",
       "        vertical-align: top;\n",
       "    }\n",
       "\n",
       "    .dataframe thead th {\n",
       "        text-align: right;\n",
       "    }\n",
       "</style>\n",
       "<table border=\"1\" class=\"dataframe\">\n",
       "  <thead>\n",
       "    <tr style=\"text-align: right;\">\n",
       "      <th></th>\n",
       "      <th>0</th>\n",
       "      <th>1</th>\n",
       "      <th>2</th>\n",
       "      <th>3</th>\n",
       "      <th>4</th>\n",
       "      <th>5</th>\n",
       "      <th>6</th>\n",
       "      <th>7</th>\n",
       "      <th>8</th>\n",
       "      <th>9</th>\n",
       "      <th>...</th>\n",
       "      <th>90</th>\n",
       "      <th>91</th>\n",
       "      <th>92</th>\n",
       "      <th>93</th>\n",
       "      <th>94</th>\n",
       "      <th>95</th>\n",
       "      <th>96</th>\n",
       "      <th>97</th>\n",
       "      <th>98</th>\n",
       "      <th>99</th>\n",
       "    </tr>\n",
       "  </thead>\n",
       "  <tbody>\n",
       "    <tr>\n",
       "      <th>deep</th>\n",
       "      <td>-0.039999</td>\n",
       "      <td>-0.029623</td>\n",
       "      <td>0.041376</td>\n",
       "      <td>0.002447</td>\n",
       "      <td>-0.036176</td>\n",
       "      <td>0.007955</td>\n",
       "      <td>0.053969</td>\n",
       "      <td>0.009615</td>\n",
       "      <td>0.033510</td>\n",
       "      <td>-0.022853</td>\n",
       "      <td>...</td>\n",
       "      <td>-0.010155</td>\n",
       "      <td>-0.016724</td>\n",
       "      <td>0.007963</td>\n",
       "      <td>-0.042664</td>\n",
       "      <td>-0.049127</td>\n",
       "      <td>-0.016337</td>\n",
       "      <td>-0.016133</td>\n",
       "      <td>0.039617</td>\n",
       "      <td>0.057189</td>\n",
       "      <td>-0.048389</td>\n",
       "    </tr>\n",
       "    <tr>\n",
       "      <th>networks</th>\n",
       "      <td>0.001620</td>\n",
       "      <td>-0.015135</td>\n",
       "      <td>0.010407</td>\n",
       "      <td>0.003636</td>\n",
       "      <td>-0.026502</td>\n",
       "      <td>-0.003453</td>\n",
       "      <td>-0.029699</td>\n",
       "      <td>-0.016118</td>\n",
       "      <td>-0.000385</td>\n",
       "      <td>-0.030422</td>\n",
       "      <td>...</td>\n",
       "      <td>-0.011386</td>\n",
       "      <td>-0.039889</td>\n",
       "      <td>0.050806</td>\n",
       "      <td>0.004525</td>\n",
       "      <td>-0.030906</td>\n",
       "      <td>-0.010457</td>\n",
       "      <td>-0.015309</td>\n",
       "      <td>0.005018</td>\n",
       "      <td>0.052680</td>\n",
       "      <td>-0.004846</td>\n",
       "    </tr>\n",
       "    <tr>\n",
       "      <th>neural</th>\n",
       "      <td>0.019878</td>\n",
       "      <td>0.029807</td>\n",
       "      <td>0.040587</td>\n",
       "      <td>-0.000028</td>\n",
       "      <td>0.009592</td>\n",
       "      <td>-0.016882</td>\n",
       "      <td>0.049319</td>\n",
       "      <td>-0.041771</td>\n",
       "      <td>-0.010653</td>\n",
       "      <td>-0.028382</td>\n",
       "      <td>...</td>\n",
       "      <td>-0.026233</td>\n",
       "      <td>0.048655</td>\n",
       "      <td>-0.008927</td>\n",
       "      <td>-0.043940</td>\n",
       "      <td>-0.040997</td>\n",
       "      <td>-0.030499</td>\n",
       "      <td>-0.018916</td>\n",
       "      <td>0.036064</td>\n",
       "      <td>0.042030</td>\n",
       "      <td>-0.030373</td>\n",
       "    </tr>\n",
       "    <tr>\n",
       "      <th>and</th>\n",
       "      <td>0.005889</td>\n",
       "      <td>0.047709</td>\n",
       "      <td>-0.002974</td>\n",
       "      <td>0.037863</td>\n",
       "      <td>0.005619</td>\n",
       "      <td>0.034228</td>\n",
       "      <td>-0.014140</td>\n",
       "      <td>0.000752</td>\n",
       "      <td>0.015448</td>\n",
       "      <td>-0.004524</td>\n",
       "      <td>...</td>\n",
       "      <td>0.025850</td>\n",
       "      <td>0.021497</td>\n",
       "      <td>-0.031903</td>\n",
       "      <td>-0.032385</td>\n",
       "      <td>0.041790</td>\n",
       "      <td>0.038269</td>\n",
       "      <td>-0.023866</td>\n",
       "      <td>-0.004959</td>\n",
       "      <td>-0.032923</td>\n",
       "      <td>0.028407</td>\n",
       "    </tr>\n",
       "    <tr>\n",
       "      <th>as</th>\n",
       "      <td>0.030531</td>\n",
       "      <td>0.019293</td>\n",
       "      <td>-0.016246</td>\n",
       "      <td>0.028890</td>\n",
       "      <td>0.002345</td>\n",
       "      <td>-0.031138</td>\n",
       "      <td>-0.002101</td>\n",
       "      <td>-0.040174</td>\n",
       "      <td>-0.001318</td>\n",
       "      <td>-0.021185</td>\n",
       "      <td>...</td>\n",
       "      <td>-0.034863</td>\n",
       "      <td>0.035519</td>\n",
       "      <td>-0.015815</td>\n",
       "      <td>-0.036127</td>\n",
       "      <td>0.041611</td>\n",
       "      <td>0.001010</td>\n",
       "      <td>-0.005863</td>\n",
       "      <td>-0.004069</td>\n",
       "      <td>0.019817</td>\n",
       "      <td>0.023194</td>\n",
       "    </tr>\n",
       "  </tbody>\n",
       "</table>\n",
       "<p>5 rows × 100 columns</p>\n",
       "</div>"
      ],
      "text/plain": [
       "                0         1         2         3         4         5   \\\n",
       "deep     -0.039999 -0.029623  0.041376  0.002447 -0.036176  0.007955   \n",
       "networks  0.001620 -0.015135  0.010407  0.003636 -0.026502 -0.003453   \n",
       "neural    0.019878  0.029807  0.040587 -0.000028  0.009592 -0.016882   \n",
       "and       0.005889  0.047709 -0.002974  0.037863  0.005619  0.034228   \n",
       "as        0.030531  0.019293 -0.016246  0.028890  0.002345 -0.031138   \n",
       "\n",
       "                6         7         8         9   ...        90        91  \\\n",
       "deep      0.053969  0.009615  0.033510 -0.022853  ... -0.010155 -0.016724   \n",
       "networks -0.029699 -0.016118 -0.000385 -0.030422  ... -0.011386 -0.039889   \n",
       "neural    0.049319 -0.041771 -0.010653 -0.028382  ... -0.026233  0.048655   \n",
       "and      -0.014140  0.000752  0.015448 -0.004524  ...  0.025850  0.021497   \n",
       "as       -0.002101 -0.040174 -0.001318 -0.021185  ... -0.034863  0.035519   \n",
       "\n",
       "                92        93        94        95        96        97  \\\n",
       "deep      0.007963 -0.042664 -0.049127 -0.016337 -0.016133  0.039617   \n",
       "networks  0.050806  0.004525 -0.030906 -0.010457 -0.015309  0.005018   \n",
       "neural   -0.008927 -0.043940 -0.040997 -0.030499 -0.018916  0.036064   \n",
       "and      -0.031903 -0.032385  0.041790  0.038269 -0.023866 -0.004959   \n",
       "as       -0.015815 -0.036127  0.041611  0.001010 -0.005863 -0.004069   \n",
       "\n",
       "                98        99  \n",
       "deep      0.057189 -0.048389  \n",
       "networks  0.052680 -0.004846  \n",
       "neural    0.042030 -0.030373  \n",
       "and      -0.032923  0.028407  \n",
       "as        0.019817  0.023194  \n",
       "\n",
       "[5 rows x 100 columns]"
      ]
     },
     "execution_count": 7,
     "metadata": {},
     "output_type": "execute_result"
    }
   ],
   "source": [
    "weights = cbow.get_weights()[0]\n",
    "weights = weights[1:]\n",
    "print(weights.shape)\n",
    "\n",
    "pd.DataFrame(weights, index=list(id2word.values())[1:]).head()"
   ]
  },
  {
   "cell_type": "code",
   "execution_count": 8,
   "metadata": {
    "colab": {
     "base_uri": "https://localhost:8080/"
    },
    "id": "UFs2IAn_LAYS",
    "outputId": "87ae1249-6a80-484f-b4a2-4d5f20734db7"
   },
   "outputs": [
    {
     "name": "stdout",
     "output_type": "stream",
     "text": [
      "(74, 74)\n"
     ]
    },
    {
     "data": {
      "text/plain": [
       "{'deep': ['semi', 'translation', 'machine', 'human', 'bioinformatics']}"
      ]
     },
     "execution_count": 8,
     "metadata": {},
     "output_type": "execute_result"
    }
   ],
   "source": [
    "from sklearn.metrics.pairwise import euclidean_distances\n",
    "\n",
    "distance_matrix = euclidean_distances(weights)\n",
    "print(distance_matrix.shape)\n",
    "\n",
    "similar_words = {search_term: [id2word[idx] for idx in distance_matrix[word2id[search_term]-1].argsort()[1:6]+1] \n",
    "                   for search_term in ['deep']}\n",
    "\n",
    "similar_words"
   ]
  }
 ],
 "metadata": {
  "colab": {
   "collapsed_sections": [],
   "provenance": []
  },
  "kernelspec": {
   "display_name": "Python 3",
   "language": "python",
   "name": "python3"
  },
  "language_info": {
   "codemirror_mode": {
    "name": "ipython",
    "version": 3
   },
   "file_extension": ".py",
   "mimetype": "text/x-python",
   "name": "python",
   "nbconvert_exporter": "python",
   "pygments_lexer": "ipython3",
   "version": "3.8.8"
  }
 },
 "nbformat": 4,
 "nbformat_minor": 1
}
